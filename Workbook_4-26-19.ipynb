{
 "cells": [
  {
   "cell_type": "code",
   "execution_count": 1,
   "metadata": {},
   "outputs": [
    {
     "name": "stderr",
     "output_type": "stream",
     "text": [
      "Using TensorFlow backend.\n"
     ]
    }
   ],
   "source": [
    "from keras.layers import Input, Dense, Conv2D, MaxPooling2D, UpSampling2D\n",
    "from keras.models import Model\n",
    "from keras import backend as K"
   ]
  },
  {
   "cell_type": "code",
   "execution_count": null,
   "metadata": {},
   "outputs": [],
   "source": [
    "# Code 2: Autoencoder, Dense Network, Three Layers (for both encoding and decoding)"
   ]
  },
  {
   "cell_type": "code",
   "execution_count": 8,
   "metadata": {},
   "outputs": [],
   "source": [
    "#input_img = Input(shape=(28, 28, 1)) \n",
    "encoding_dim = 32\n",
    "input_img = Input(shape=(784,))\n",
    "\n",
    "encoded = Dense(128, activation='relu')(input_img)\n",
    "encoded = Dense(64, activation='relu')(encoded)\n",
    "encoded = Dense(32, activation='relu')(encoded)\n",
    "encoder = Model(input_img, encoded)\n",
    "\n",
    "encoded_input = Input(shape=(32,))\n",
    "decoded = Dense(64, activation='sigmoid')(encoded_input)\n",
    "decoded = Dense(128, activation='sigmoid')(decoded)\n",
    "decoded = Dense(784, activation='sigmoid')(decoded)\n",
    "decoder = Model(encoded_input,decoded)\n",
    "\n",
    "autoencoder = Model(input_img,decoder(encoder(input_img)))"
   ]
  },
  {
   "cell_type": "code",
   "execution_count": 9,
   "metadata": {},
   "outputs": [],
   "source": [
    "autoencoder.compile(optimizer='adadelta', loss='binary_crossentropy')"
   ]
  },
  {
   "cell_type": "code",
   "execution_count": 10,
   "metadata": {},
   "outputs": [],
   "source": [
    "from keras.datasets import mnist\n",
    "import numpy as np\n",
    "(x_train, _), (x_test, _) = mnist.load_data()"
   ]
  },
  {
   "cell_type": "code",
   "execution_count": 11,
   "metadata": {},
   "outputs": [],
   "source": [
    "x_train = x_train.astype('float32') / 255.\n",
    "x_test = x_test.astype('float32') / 255.\n",
    "x_train = x_train.reshape((len(x_train), np.prod(x_train.shape[1:])))\n",
    "x_test = x_test.reshape((len(x_test), np.prod(x_test.shape[1:])))"
   ]
  },
  {
   "cell_type": "code",
   "execution_count": 12,
   "metadata": {},
   "outputs": [
    {
     "name": "stdout",
     "output_type": "stream",
     "text": [
      "Train on 60000 samples, validate on 10000 samples\n",
      "Epoch 1/50\n",
      "60000/60000 [==============================] - 24s 401us/step - loss: 0.3776 - val_loss: 0.2812\n",
      "Epoch 2/50\n",
      "60000/60000 [==============================] - 20s 336us/step - loss: 0.2728 - val_loss: 0.2682\n",
      "Epoch 3/50\n",
      "60000/60000 [==============================] - 9s 144us/step - loss: 0.2670 - val_loss: 0.2657\n",
      "Epoch 4/50\n",
      "60000/60000 [==============================] - 9s 146us/step - loss: 0.2654 - val_loss: 0.2647\n",
      "Epoch 5/50\n",
      "60000/60000 [==============================] - 8s 138us/step - loss: 0.2647 - val_loss: 0.2642\n",
      "Epoch 6/50\n",
      "60000/60000 [==============================] - 8s 129us/step - loss: 0.2642 - val_loss: 0.2638\n",
      "Epoch 7/50\n",
      "60000/60000 [==============================] - 9s 142us/step - loss: 0.2639 - val_loss: 0.2635\n",
      "Epoch 8/50\n",
      "60000/60000 [==============================] - 8s 132us/step - loss: 0.2637 - val_loss: 0.2633\n",
      "Epoch 9/50\n",
      "60000/60000 [==============================] - 9s 153us/step - loss: 0.2634 - val_loss: 0.2630\n",
      "Epoch 10/50\n",
      "60000/60000 [==============================] - 9s 146us/step - loss: 0.2630 - val_loss: 0.2624\n",
      "Epoch 11/50\n",
      "60000/60000 [==============================] - 10s 163us/step - loss: 0.2624 - val_loss: 0.2619\n",
      "Epoch 12/50\n",
      "60000/60000 [==============================] - 10s 162us/step - loss: 0.2619 - val_loss: 0.2614\n",
      "Epoch 13/50\n",
      "60000/60000 [==============================] - 9s 151us/step - loss: 0.2614 - val_loss: 0.2609\n",
      "Epoch 14/50\n",
      "60000/60000 [==============================] - 9s 143us/step - loss: 0.2606 - val_loss: 0.2599\n",
      "Epoch 15/50\n",
      "60000/60000 [==============================] - 8s 135us/step - loss: 0.2595 - val_loss: 0.2588\n",
      "Epoch 16/50\n",
      "60000/60000 [==============================] - 8s 138us/step - loss: 0.2584 - val_loss: 0.2579\n",
      "Epoch 17/50\n",
      "60000/60000 [==============================] - 8s 133us/step - loss: 0.2577 - val_loss: 0.2572\n",
      "Epoch 18/50\n",
      "60000/60000 [==============================] - 9s 153us/step - loss: 0.2570 - val_loss: 0.2566\n",
      "Epoch 19/50\n",
      "60000/60000 [==============================] - 9s 144us/step - loss: 0.2564 - val_loss: 0.2559\n",
      "Epoch 20/50\n",
      "60000/60000 [==============================] - 9s 154us/step - loss: 0.2557 - val_loss: 0.2552\n",
      "Epoch 21/50\n",
      "60000/60000 [==============================] - 8s 140us/step - loss: 0.2550 - val_loss: 0.2545\n",
      "Epoch 22/50\n",
      "60000/60000 [==============================] - 10s 164us/step - loss: 0.2542 - val_loss: 0.2537\n",
      "Epoch 23/50\n",
      "60000/60000 [==============================] - 9s 154us/step - loss: 0.2534 - val_loss: 0.2528\n",
      "Epoch 24/50\n",
      "60000/60000 [==============================] - 9s 146us/step - loss: 0.2526 - val_loss: 0.2519\n",
      "Epoch 25/50\n",
      "60000/60000 [==============================] - 9s 142us/step - loss: 0.2517 - val_loss: 0.2510\n",
      "Epoch 26/50\n",
      "60000/60000 [==============================] - 8s 136us/step - loss: 0.2508 - val_loss: 0.2501\n",
      "Epoch 27/50\n",
      "60000/60000 [==============================] - 9s 142us/step - loss: 0.2499 - val_loss: 0.2492\n",
      "Epoch 28/50\n",
      "60000/60000 [==============================] - 8s 134us/step - loss: 0.2491 - val_loss: 0.2484\n",
      "Epoch 29/50\n",
      "60000/60000 [==============================] - 9s 158us/step - loss: 0.2484 - val_loss: 0.2477\n",
      "Epoch 30/50\n",
      "60000/60000 [==============================] - 8s 132us/step - loss: 0.2478 - val_loss: 0.2471\n",
      "Epoch 31/50\n",
      "60000/60000 [==============================] - 9s 146us/step - loss: 0.2472 - val_loss: 0.2465\n",
      "Epoch 32/50\n",
      "60000/60000 [==============================] - 8s 136us/step - loss: 0.2467 - val_loss: 0.2460\n",
      "Epoch 33/50\n",
      "60000/60000 [==============================] - 8s 141us/step - loss: 0.2462 - val_loss: 0.2456\n",
      "Epoch 34/50\n",
      "60000/60000 [==============================] - 8s 133us/step - loss: 0.2458 - val_loss: 0.2451\n",
      "Epoch 35/50\n",
      "60000/60000 [==============================] - 8s 142us/step - loss: 0.2454 - val_loss: 0.2448\n",
      "Epoch 36/50\n",
      "60000/60000 [==============================] - 8s 138us/step - loss: 0.2450 - val_loss: 0.2444\n",
      "Epoch 37/50\n",
      "60000/60000 [==============================] - 9s 148us/step - loss: 0.2447 - val_loss: 0.2441\n",
      "Epoch 38/50\n",
      "60000/60000 [==============================] - 9s 147us/step - loss: 0.2444 - val_loss: 0.2438\n",
      "Epoch 39/50\n",
      "60000/60000 [==============================] - 9s 152us/step - loss: 0.2441 - val_loss: 0.2435\n",
      "Epoch 40/50\n",
      "60000/60000 [==============================] - 9s 153us/step - loss: 0.2438 - val_loss: 0.2432\n",
      "Epoch 41/50\n",
      "60000/60000 [==============================] - 9s 154us/step - loss: 0.2435 - val_loss: 0.2429\n",
      "Epoch 42/50\n",
      "60000/60000 [==============================] - 9s 145us/step - loss: 0.2433 - val_loss: 0.2427\n",
      "Epoch 43/50\n",
      "60000/60000 [==============================] - 10s 164us/step - loss: 0.2430 - val_loss: 0.2424\n",
      "Epoch 44/50\n",
      "60000/60000 [==============================] - 11s 178us/step - loss: 0.2428 - val_loss: 0.2422\n",
      "Epoch 45/50\n",
      "60000/60000 [==============================] - 8s 130us/step - loss: 0.2426 - val_loss: 0.2419\n",
      "Epoch 46/50\n",
      "60000/60000 [==============================] - 9s 151us/step - loss: 0.2423 - val_loss: 0.2417\n",
      "Epoch 47/50\n",
      "60000/60000 [==============================] - 9s 150us/step - loss: 0.2421 - val_loss: 0.2415\n",
      "Epoch 48/50\n",
      "60000/60000 [==============================] - 8s 132us/step - loss: 0.2419 - val_loss: 0.2413\n",
      "Epoch 49/50\n",
      "60000/60000 [==============================] - 8s 136us/step - loss: 0.2417 - val_loss: 0.2411\n",
      "Epoch 50/50\n",
      "60000/60000 [==============================] - 8s 128us/step - loss: 0.2415 - val_loss: 0.2408\n"
     ]
    }
   ],
   "source": [
    "history = autoencoder.fit(x_train, x_train,\n",
    "                epochs=50,\n",
    "                batch_size=256,\n",
    "                shuffle=True,\n",
    "                validation_data=(x_test, x_test))"
   ]
  },
  {
   "cell_type": "code",
   "execution_count": 14,
   "metadata": {},
   "outputs": [
    {
     "data": {
      "image/png": "[encoded data removed]",
      "text/plain": [
       "<Figure size 432x288 with 1 Axes>"
      ]
     },
     "metadata": {
      "needs_background": "light"
     },
     "output_type": "display_data"
    }
   ],
   "source": [
    "import matplotlib.pyplot as plt\n",
    "\n",
    "history_dict = history.history\n",
    "\n",
    "loss_values = history_dict['loss']\n",
    "val_loss_values = history_dict['val_loss']\n",
    "\n",
    "epochs = range(1, 51)\n",
    "\n",
    "plt.plot(epochs, loss_values, 'bo', label='Training loss')\n",
    "plt.plot(epochs, val_loss_values, 'b', label='Validation loss')\n",
    "plt.title('Training and validation loss')\n",
    "plt.xlabel('Epochs')\n",
    "plt.ylabel('Loss')\n",
    "plt.legend()\n",
    "plt.show()"
   ]
  },
  {
   "cell_type": "code",
   "execution_count": 15,
   "metadata": {},
   "outputs": [],
   "source": [
    "encoded_imgs = encoder.predict(x_test)\n",
    "decoded_imgs = decoder.predict(encoded_imgs)"
   ]
  },
  {
   "cell_type": "code",
   "execution_count": 16,
   "metadata": {},
   "outputs": [
    {
     "data": {
      "image/png": "[encoded data removed]",
      "text/plain": [
       "<Figure size 1440x288 with 20 Axes>"
      ]
     },
     "metadata": {
      "needs_background": "light"
     },
     "output_type": "display_data"
    }
   ],
   "source": [
    "n = 10  # how many digits we will display\n",
    "plt.figure(figsize=(20, 4))\n",
    "\n",
    "for i in range(n):\n",
    "    # display original\n",
    "    ax = plt.subplot(2, n, i + 1)\n",
    "    plt.imshow(x_test[i].reshape(28, 28))\n",
    "    plt.gray()\n",
    "    ax.get_xaxis().set_visible(False)\n",
    "    ax.get_yaxis().set_visible(False)\n",
    "\n",
    "    # display reconstruction\n",
    "    ax = plt.subplot(2, n, i + 1 + n)\n",
    "    plt.imshow(decoded_imgs[i].reshape(28, 28))\n",
    "    plt.gray()\n",
    "    ax.get_xaxis().set_visible(False)\n",
    "    ax.get_yaxis().set_visible(False)\n",
    "    \n",
    "plt.show()"
   ]
  },
  {
   "cell_type": "code",
   "execution_count": null,
   "metadata": {},
   "outputs": [],
   "source": []
  }
 ],
 "metadata": {
  "kernelspec": {
   "display_name": "Python 3",
   "language": "python",
   "name": "python3"
  },
  "language_info": {
   "codemirror_mode": {
    "name": "ipython",
    "version": 3
   },
   "file_extension": ".py",
   "mimetype": "text/x-python",
   "name": "python",
   "nbconvert_exporter": "python",
   "pygments_lexer": "ipython3",
   "version": "3.6.8"
  }
 },
 "nbformat": 4,
 "nbformat_minor": 2
}
