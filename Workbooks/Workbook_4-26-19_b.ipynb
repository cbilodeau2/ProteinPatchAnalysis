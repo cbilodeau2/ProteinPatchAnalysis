{
 "cells": [
  {
   "cell_type": "code",
   "execution_count": 1,
   "metadata": {},
   "outputs": [
    {
     "name": "stderr",
     "output_type": "stream",
     "text": [
      "Using TensorFlow backend.\n"
     ]
    }
   ],
   "source": [
    "import keras\n",
    "\n",
    "from keras.layers import Input, Dense\n",
    "from keras.models import Model\n",
    "from keras import regularizers"
   ]
  },
  {
   "cell_type": "code",
   "execution_count": null,
   "metadata": {},
   "outputs": [],
   "source": [
    "# Code 1: Autoencoder, Dense Network, One Layer"
   ]
  },
  {
   "cell_type": "code",
   "execution_count": 27,
   "metadata": {},
   "outputs": [],
   "source": [
    "encoding_dim = 32 \n",
    "\n",
    "input_img = Input(shape=(784,))\n",
    "encoded = Dense(encoding_dim, activation='relu')(input_img)\n",
    "encoder = Model(input_img, encoded)\n",
    "\n",
    "encoded_input = Input(shape=(encoding_dim,))\n",
    "decoded = Dense(784, activation='sigmoid')(encoded_input)\n",
    "decoder = Model(encoded_input,decoded)\n",
    "\n",
    "autoencoder = Model(input_img,decoder(encoder(input_img)))"
   ]
  },
  {
   "cell_type": "code",
   "execution_count": 28,
   "metadata": {},
   "outputs": [],
   "source": [
    "autoencoder.compile(optimizer='adadelta', loss='binary_crossentropy')"
   ]
  },
  {
   "cell_type": "code",
   "execution_count": 29,
   "metadata": {},
   "outputs": [],
   "source": [
    "from keras.datasets import mnist\n",
    "import numpy as np\n",
    "(x_train, _), (x_test, _) = mnist.load_data()"
   ]
  },
  {
   "cell_type": "code",
   "execution_count": 30,
   "metadata": {},
   "outputs": [],
   "source": [
    "x_train = x_train.astype('float32') / 255.\n",
    "x_test = x_test.astype('float32') / 255.\n",
    "x_train = x_train.reshape((len(x_train), np.prod(x_train.shape[1:])))\n",
    "x_test = x_test.reshape((len(x_test), np.prod(x_test.shape[1:])))"
   ]
  },
  {
   "cell_type": "code",
   "execution_count": 32,
   "metadata": {},
   "outputs": [
    {
     "name": "stdout",
     "output_type": "stream",
     "text": [
      "Train on 60000 samples, validate on 10000 samples\n",
      "Epoch 1/50\n",
      "60000/60000 [==============================] - 7s 112us/step - loss: 0.2212 - val_loss: 0.2120\n",
      "Epoch 2/50\n",
      "60000/60000 [==============================] - 6s 107us/step - loss: 0.2075 - val_loss: 0.2003\n",
      "Epoch 3/50\n",
      "60000/60000 [==============================] - 7s 114us/step - loss: 0.1969 - val_loss: 0.1904\n",
      "Epoch 4/50\n",
      "60000/60000 [==============================] - 6s 102us/step - loss: 0.1877 - val_loss: 0.1821\n",
      "Epoch 5/50\n",
      "60000/60000 [==============================] - 6s 104us/step - loss: 0.1800 - val_loss: 0.1753\n",
      "Epoch 6/50\n",
      "60000/60000 [==============================] - 7s 113us/step - loss: 0.1739 - val_loss: 0.1697\n",
      "Epoch 7/50\n",
      "60000/60000 [==============================] - 6s 104us/step - loss: 0.1688 - val_loss: 0.1650\n",
      "Epoch 8/50\n",
      "60000/60000 [==============================] - 6s 104us/step - loss: 0.1644 - val_loss: 0.1610\n",
      "Epoch 9/50\n",
      "60000/60000 [==============================] - 6s 92us/step - loss: 0.1604 - val_loss: 0.1571\n",
      "Epoch 10/50\n",
      "60000/60000 [==============================] - 5s 91us/step - loss: 0.1567 - val_loss: 0.1534\n",
      "Epoch 11/50\n",
      "60000/60000 [==============================] - 6s 98us/step - loss: 0.1533 - val_loss: 0.1502\n",
      "Epoch 12/50\n",
      "60000/60000 [==============================] - 5s 90us/step - loss: 0.1501 - val_loss: 0.1470\n",
      "Epoch 13/50\n",
      "60000/60000 [==============================] - 6s 101us/step - loss: 0.1471 - val_loss: 0.1443\n",
      "Epoch 14/50\n",
      "60000/60000 [==============================] - 7s 112us/step - loss: 0.1444 - val_loss: 0.1416\n",
      "Epoch 15/50\n",
      "60000/60000 [==============================] - 6s 92us/step - loss: 0.1418 - val_loss: 0.1389\n",
      "Epoch 16/50\n",
      "60000/60000 [==============================] - 6s 94us/step - loss: 0.1394 - val_loss: 0.1366\n",
      "Epoch 17/50\n",
      "60000/60000 [==============================] - 6s 102us/step - loss: 0.1371 - val_loss: 0.1344\n",
      "Epoch 18/50\n",
      "60000/60000 [==============================] - 6s 94us/step - loss: 0.1349 - val_loss: 0.1323\n",
      "Epoch 19/50\n",
      "60000/60000 [==============================] - 7s 109us/step - loss: 0.1329 - val_loss: 0.1302\n",
      "Epoch 20/50\n",
      "60000/60000 [==============================] - 6s 94us/step - loss: 0.1308 - val_loss: 0.1283\n",
      "Epoch 21/50\n",
      "60000/60000 [==============================] - 6s 92us/step - loss: 0.1289 - val_loss: 0.1264\n",
      "Epoch 22/50\n",
      "60000/60000 [==============================] - 6s 103us/step - loss: 0.1271 - val_loss: 0.1245\n",
      "Epoch 23/50\n",
      "60000/60000 [==============================] - 6s 93us/step - loss: 0.1253 - val_loss: 0.1229\n",
      "Epoch 24/50\n",
      "60000/60000 [==============================] - 5s 90us/step - loss: 0.1236 - val_loss: 0.1212\n",
      "Epoch 25/50\n",
      "60000/60000 [==============================] - 6s 96us/step - loss: 0.1220 - val_loss: 0.1197\n",
      "Epoch 26/50\n",
      "60000/60000 [==============================] - 6s 92us/step - loss: 0.1205 - val_loss: 0.1182\n",
      "Epoch 27/50\n",
      "60000/60000 [==============================] - 6s 95us/step - loss: 0.1191 - val_loss: 0.1168\n",
      "Epoch 28/50\n",
      "60000/60000 [==============================] - 6s 95us/step - loss: 0.1178 - val_loss: 0.1155\n",
      "Epoch 29/50\n",
      "60000/60000 [==============================] - 5s 90us/step - loss: 0.1165 - val_loss: 0.1144\n",
      "Epoch 30/50\n",
      "60000/60000 [==============================] - 6s 96us/step - loss: 0.1154 - val_loss: 0.1132\n",
      "Epoch 31/50\n",
      "60000/60000 [==============================] - 6s 96us/step - loss: 0.1143 - val_loss: 0.1121\n",
      "Epoch 32/50\n",
      "60000/60000 [==============================] - 6s 98us/step - loss: 0.1133 - val_loss: 0.1111\n",
      "Epoch 33/50\n",
      "60000/60000 [==============================] - 6s 100us/step - loss: 0.1123 - val_loss: 0.1102\n",
      "Epoch 34/50\n",
      "60000/60000 [==============================] - 6s 94us/step - loss: 0.1114 - val_loss: 0.1094\n",
      "Epoch 35/50\n",
      "60000/60000 [==============================] - 6s 94us/step - loss: 0.1106 - val_loss: 0.1085\n",
      "Epoch 36/50\n",
      "60000/60000 [==============================] - 6s 100us/step - loss: 0.1098 - val_loss: 0.1078\n",
      "Epoch 37/50\n",
      "60000/60000 [==============================] - 6s 93us/step - loss: 0.1091 - val_loss: 0.1071\n",
      "Epoch 38/50\n",
      "60000/60000 [==============================] - 6s 94us/step - loss: 0.1084 - val_loss: 0.1064\n",
      "Epoch 39/50\n",
      "60000/60000 [==============================] - 6s 97us/step - loss: 0.1078 - val_loss: 0.1058\n",
      "Epoch 40/50\n",
      "60000/60000 [==============================] - 5s 91us/step - loss: 0.1072 - val_loss: 0.1053\n",
      "Epoch 41/50\n",
      "60000/60000 [==============================] - 6s 106us/step - loss: 0.1066 - val_loss: 0.1047\n",
      "Epoch 42/50\n",
      "60000/60000 [==============================] - 6s 101us/step - loss: 0.1061 - val_loss: 0.1042\n",
      "Epoch 43/50\n",
      "60000/60000 [==============================] - 6s 97us/step - loss: 0.1056 - val_loss: 0.1037\n",
      "Epoch 44/50\n",
      "60000/60000 [==============================] - 7s 111us/step - loss: 0.1051 - val_loss: 0.1032\n",
      "Epoch 45/50\n",
      "60000/60000 [==============================] - 6s 98us/step - loss: 0.1047 - val_loss: 0.1028\n",
      "Epoch 46/50\n",
      "60000/60000 [==============================] - 7s 112us/step - loss: 0.1043 - val_loss: 0.1024\n",
      "Epoch 47/50\n",
      "60000/60000 [==============================] - 10s 168us/step - loss: 0.1039 - val_loss: 0.1021\n",
      "Epoch 48/50\n",
      "60000/60000 [==============================] - 10s 165us/step - loss: 0.1035 - val_loss: 0.1017\n",
      "Epoch 49/50\n",
      "60000/60000 [==============================] - 10s 162us/step - loss: 0.1031 - val_loss: 0.1013\n",
      "Epoch 50/50\n",
      "60000/60000 [==============================] - 10s 172us/step - loss: 0.1028 - val_loss: 0.1010\n"
     ]
    }
   ],
   "source": [
    "history = autoencoder.fit(x_train, x_train,\n",
    "                epochs=50,\n",
    "                batch_size=256,\n",
    "                shuffle=True,\n",
    "                validation_data=(x_test, x_test))"
   ]
  },
  {
   "cell_type": "code",
   "execution_count": 34,
   "metadata": {},
   "outputs": [
    {
     "data": {
      "image/png": "[encoded data removed]",
      "text/plain": [
       "<Figure size 432x288 with 1 Axes>"
      ]
     },
     "metadata": {
      "needs_background": "light"
     },
     "output_type": "display_data"
    }
   ],
   "source": [
    "import matplotlib.pyplot as plt\n",
    "\n",
    "history_dict = history.history\n",
    "\n",
    "loss_values = history_dict['loss']\n",
    "val_loss_values = history_dict['val_loss']\n",
    "\n",
    "epochs = range(1, 51)\n",
    "\n",
    "plt.plot(epochs, loss_values, 'bo', label='Training loss')\n",
    "plt.plot(epochs, val_loss_values, 'b', label='Validation loss')\n",
    "plt.title('Training and validation loss')\n",
    "plt.xlabel('Epochs')\n",
    "plt.ylabel('Loss')\n",
    "plt.legend()\n",
    "plt.show()"
   ]
  },
  {
   "cell_type": "code",
   "execution_count": 35,
   "metadata": {},
   "outputs": [],
   "source": [
    "encoded_imgs = encoder.predict(x_test)\n",
    "decoded_imgs = decoder.predict(encoded_imgs)"
   ]
  },
  {
   "cell_type": "code",
   "execution_count": 37,
   "metadata": {},
   "outputs": [
    {
     "data": {
      "image/png": "[encoded data removed]",
      "text/plain": [
       "<Figure size 1440x288 with 20 Axes>"
      ]
     },
     "metadata": {
      "needs_background": "light"
     },
     "output_type": "display_data"
    }
   ],
   "source": [
    "n = 10  # how many digits we will display\n",
    "plt.figure(figsize=(20, 4))\n",
    "\n",
    "for i in range(n):\n",
    "    # display original\n",
    "    ax = plt.subplot(2, n, i + 1)\n",
    "    plt.imshow(x_test[i].reshape(28, 28))\n",
    "    plt.gray()\n",
    "    ax.get_xaxis().set_visible(False)\n",
    "    ax.get_yaxis().set_visible(False)\n",
    "\n",
    "    # display reconstruction\n",
    "    ax = plt.subplot(2, n, i + 1 + n)\n",
    "    plt.imshow(decoded_imgs[i].reshape(28, 28))\n",
    "    plt.gray()\n",
    "    ax.get_xaxis().set_visible(False)\n",
    "    ax.get_yaxis().set_visible(False)\n",
    "    \n",
    "plt.show()"
   ]
  },
  {
   "cell_type": "code",
   "execution_count": null,
   "metadata": {},
   "outputs": [],
   "source": []
  },
  {
   "cell_type": "code",
   "execution_count": 13,
   "metadata": {},
   "outputs": [],
   "source": []
  },
  {
   "cell_type": "code",
   "execution_count": 8,
   "metadata": {},
   "outputs": [],
   "source": []
  },
  {
   "cell_type": "code",
   "execution_count": null,
   "metadata": {},
   "outputs": [],
   "source": []
  }
 ],
 "metadata": {
  "kernelspec": {
   "display_name": "Python 3",
   "language": "python",
   "name": "python3"
  },
  "language_info": {
   "codemirror_mode": {
    "name": "ipython",
    "version": 3
   },
   "file_extension": ".py",
   "mimetype": "text/x-python",
   "name": "python",
   "nbconvert_exporter": "python",
   "pygments_lexer": "ipython3",
   "version": "3.6.8"
  }
 },
 "nbformat": 4,
 "nbformat_minor": 2
}
