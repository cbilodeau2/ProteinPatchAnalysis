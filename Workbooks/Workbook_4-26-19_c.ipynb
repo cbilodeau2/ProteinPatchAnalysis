{
 "cells": [
  {
   "cell_type": "code",
   "execution_count": 36,
   "metadata": {},
   "outputs": [],
   "source": [
    "from keras.layers import Input, Dense, Conv2D, MaxPooling2D, UpSampling2D\n",
    "from keras.models import Model\n",
    "from keras import backend as K\n",
    "from keras import layers\n",
    "from keras.callbacks import TensorBoard"
   ]
  },
  {
   "cell_type": "code",
   "execution_count": 37,
   "metadata": {},
   "outputs": [],
   "source": [
    "# Code 3: Autoencoder, CNN, three layers (for encoder and for decoder)"
   ]
  },
  {
   "cell_type": "code",
   "execution_count": 38,
   "metadata": {},
   "outputs": [],
   "source": [
    "input_img = Input(shape=(28, 28, 1)) \n",
    "encoding_dim = 32\n",
    "#input_img = Input(shape=(784,))\n",
    "\n",
    "encoded = Conv2D(16, (3,3), activation='relu', padding='same')(input_img)\n",
    "encoded = MaxPooling2D((2, 2), padding='same')(encoded)\n",
    "encoded = Conv2D(8, (3, 3), activation='relu', padding='same')(encoded)\n",
    "encoded = MaxPooling2D((2, 2), padding='same')(encoded)\n",
    "encoded = Conv2D(8, (3, 3), activation='relu', padding='same')(encoded)\n",
    "encoded = MaxPooling2D((2, 2), padding='same')(encoded)\n",
    "\n",
    "encoder = Model(input_img, encoded)\n",
    "\n",
    "encoded_input = Input(shape=(4,4,8))\n",
    "decoded = Conv2D(8, (3, 3), activation='relu', padding='same')(encoded_input)\n",
    "decoded = UpSampling2D((2, 2))(decoded)\n",
    "decoded = Conv2D(8, (3, 3), activation='relu', padding='same')(decoded)\n",
    "decoded = UpSampling2D((2, 2))(decoded)\n",
    "decoded = Conv2D(16, (3, 3), activation='relu')(decoded)\n",
    "decoded = UpSampling2D((2, 2))(decoded)\n",
    "decoded = Conv2D(1, (3, 3), activation='sigmoid', padding='same')(decoded)\n",
    "\n",
    "decoder = Model(encoded_input,decoded)\n",
    "\n",
    "autoencoder = Model(input_img,decoder(encoder(input_img)))"
   ]
  },
  {
   "cell_type": "code",
   "execution_count": 39,
   "metadata": {},
   "outputs": [
    {
     "name": "stdout",
     "output_type": "stream",
     "text": [
      "_________________________________________________________________\n",
      "Layer (type)                 Output Shape              Param #   \n",
      "=================================================================\n",
      "input_22 (InputLayer)        (None, 28, 28, 1)         0         \n",
      "_________________________________________________________________\n",
      "model_21 (Model)             (None, 4, 4, 8)           1904      \n",
      "_________________________________________________________________\n",
      "model_22 (Model)             (None, 28, 28, 1)         2481      \n",
      "=================================================================\n",
      "Total params: 4,385\n",
      "Trainable params: 4,385\n",
      "Non-trainable params: 0\n",
      "_________________________________________________________________\n"
     ]
    }
   ],
   "source": [
    "autoencoder.summary()"
   ]
  },
  {
   "cell_type": "code",
   "execution_count": 40,
   "metadata": {},
   "outputs": [],
   "source": [
    "autoencoder.compile(optimizer='adadelta', loss='binary_crossentropy')"
   ]
  },
  {
   "cell_type": "code",
   "execution_count": 41,
   "metadata": {},
   "outputs": [],
   "source": [
    "from keras.datasets import mnist\n",
    "import numpy as np\n",
    "(x_train, _), (x_test, _) = mnist.load_data()\n",
    "x_train = x_train.astype('float32') / 255.\n",
    "x_train = x_train.reshape(x_train.shape + (1,))\n",
    "x_test = x_test.astype('float32') / 255.\n",
    "x_test = x_test.reshape(x_test.shape + (1,))"
   ]
  },
  {
   "cell_type": "code",
   "execution_count": null,
   "metadata": {},
   "outputs": [],
   "source": []
  },
  {
   "cell_type": "code",
   "execution_count": 45,
   "metadata": {},
   "outputs": [
    {
     "name": "stdout",
     "output_type": "stream",
     "text": [
      "Train on 60000 samples, validate on 10000 samples\n",
      "Epoch 1/50\n",
      "60000/60000 [==============================] - 196s 3ms/step - loss: 0.1751 - val_loss: 0.1691\n",
      "Epoch 2/50\n",
      "60000/60000 [==============================] - 190s 3ms/step - loss: 0.1587 - val_loss: 0.1526\n",
      "Epoch 3/50\n",
      "60000/60000 [==============================] - 188s 3ms/step - loss: 0.1492 - val_loss: 0.1452\n",
      "Epoch 4/50\n",
      "60000/60000 [==============================] - 193s 3ms/step - loss: 0.1429 - val_loss: 0.1407\n",
      "Epoch 5/50\n",
      "60000/60000 [==============================] - 197s 3ms/step - loss: 0.1377 - val_loss: 0.1419\n",
      "Epoch 6/50\n",
      "60000/60000 [==============================] - 189s 3ms/step - loss: 0.1336 - val_loss: 0.1304\n",
      "Epoch 7/50\n",
      "60000/60000 [==============================] - 145s 2ms/step - loss: 0.1303 - val_loss: 0.1315\n",
      "Epoch 8/50\n",
      "60000/60000 [==============================] - 101s 2ms/step - loss: 0.1275 - val_loss: 0.1272\n",
      "Epoch 9/50\n",
      "60000/60000 [==============================] - 103s 2ms/step - loss: 0.1251 - val_loss: 0.1243\n",
      "Epoch 10/50\n",
      "60000/60000 [==============================] - 102s 2ms/step - loss: 0.1231 - val_loss: 0.1208\n",
      "Epoch 11/50\n",
      "60000/60000 [==============================] - 102s 2ms/step - loss: 0.1214 - val_loss: 0.1212\n",
      "Epoch 12/50\n",
      "60000/60000 [==============================] - 104s 2ms/step - loss: 0.1199 - val_loss: 0.1194\n",
      "Epoch 13/50\n",
      "60000/60000 [==============================] - 103s 2ms/step - loss: 0.1183 - val_loss: 0.1166\n",
      "Epoch 14/50\n",
      "60000/60000 [==============================] - 105s 2ms/step - loss: 0.1172 - val_loss: 0.1176\n",
      "Epoch 15/50\n",
      "60000/60000 [==============================] - 103s 2ms/step - loss: 0.1162 - val_loss: 0.1141\n",
      "Epoch 16/50\n",
      "60000/60000 [==============================] - 104s 2ms/step - loss: 0.1152 - val_loss: 0.1191\n",
      "Epoch 17/50\n",
      "60000/60000 [==============================] - 103s 2ms/step - loss: 0.1144 - val_loss: 0.1140\n",
      "Epoch 18/50\n",
      "60000/60000 [==============================] - 103s 2ms/step - loss: 0.1135 - val_loss: 0.1108\n",
      "Epoch 19/50\n",
      "60000/60000 [==============================] - 103s 2ms/step - loss: 0.1128 - val_loss: 0.1142\n",
      "Epoch 20/50\n",
      "60000/60000 [==============================] - 103s 2ms/step - loss: 0.1120 - val_loss: 0.1133\n",
      "Epoch 21/50\n",
      "60000/60000 [==============================] - 103s 2ms/step - loss: 0.1118 - val_loss: 0.1093\n",
      "Epoch 22/50\n",
      "60000/60000 [==============================] - 104s 2ms/step - loss: 0.1112 - val_loss: 0.1097\n",
      "Epoch 23/50\n",
      "60000/60000 [==============================] - 104s 2ms/step - loss: 0.1109 - val_loss: 0.1096\n",
      "Epoch 24/50\n",
      "60000/60000 [==============================] - 110s 2ms/step - loss: 0.1104 - val_loss: 0.1082\n",
      "Epoch 25/50\n",
      "60000/60000 [==============================] - 105s 2ms/step - loss: 0.1099 - val_loss: 0.1107\n",
      "Epoch 26/50\n",
      "60000/60000 [==============================] - 104s 2ms/step - loss: 0.1097 - val_loss: 0.1055\n",
      "Epoch 27/50\n",
      "60000/60000 [==============================] - 104s 2ms/step - loss: 0.1092 - val_loss: 0.1121\n",
      "Epoch 28/50\n",
      "60000/60000 [==============================] - 104s 2ms/step - loss: 0.1089 - val_loss: 0.1081\n",
      "Epoch 29/50\n",
      "60000/60000 [==============================] - 104s 2ms/step - loss: 0.1086 - val_loss: 0.1049\n",
      "Epoch 30/50\n",
      "60000/60000 [==============================] - 105s 2ms/step - loss: 0.1082 - val_loss: 0.1083\n",
      "Epoch 31/50\n",
      "60000/60000 [==============================] - 109s 2ms/step - loss: 0.1078 - val_loss: 0.1047\n",
      "Epoch 32/50\n",
      "60000/60000 [==============================] - 106s 2ms/step - loss: 0.1074 - val_loss: 0.1126\n",
      "Epoch 33/50\n",
      "60000/60000 [==============================] - 106s 2ms/step - loss: 0.1073 - val_loss: 0.1058\n",
      "Epoch 34/50\n",
      "60000/60000 [==============================] - 106s 2ms/step - loss: 0.1068 - val_loss: 0.1073\n",
      "Epoch 35/50\n",
      "60000/60000 [==============================] - 108s 2ms/step - loss: 0.1066 - val_loss: 0.1044\n",
      "Epoch 36/50\n",
      "60000/60000 [==============================] - 106s 2ms/step - loss: 0.1062 - val_loss: 0.1034\n",
      "Epoch 37/50\n",
      "60000/60000 [==============================] - 106s 2ms/step - loss: 0.1058 - val_loss: 0.1029\n",
      "Epoch 38/50\n",
      "60000/60000 [==============================] - 106s 2ms/step - loss: 0.1056 - val_loss: 0.1014\n",
      "Epoch 39/50\n",
      "60000/60000 [==============================] - 106s 2ms/step - loss: 0.1054 - val_loss: 0.1034\n",
      "Epoch 40/50\n",
      "60000/60000 [==============================] - 107s 2ms/step - loss: 0.1051 - val_loss: 0.1063\n",
      "Epoch 41/50\n",
      "60000/60000 [==============================] - 107s 2ms/step - loss: 0.1050 - val_loss: 0.1034\n",
      "Epoch 42/50\n",
      "60000/60000 [==============================] - 107s 2ms/step - loss: 0.1048 - val_loss: 0.1029\n",
      "Epoch 43/50\n",
      "60000/60000 [==============================] - 106s 2ms/step - loss: 0.1046 - val_loss: 0.1051\n",
      "Epoch 44/50\n",
      "60000/60000 [==============================] - 105s 2ms/step - loss: 0.1044 - val_loss: 0.1033\n",
      "Epoch 45/50\n",
      "60000/60000 [==============================] - 104s 2ms/step - loss: 0.1043 - val_loss: 0.1012\n",
      "Epoch 46/50\n",
      "60000/60000 [==============================] - 103s 2ms/step - loss: 0.1042 - val_loss: 0.1030\n",
      "Epoch 47/50\n",
      "60000/60000 [==============================] - 103s 2ms/step - loss: 0.1039 - val_loss: 0.1033\n",
      "Epoch 48/50\n",
      "60000/60000 [==============================] - 114s 2ms/step - loss: 0.1038 - val_loss: 0.1032\n",
      "Epoch 49/50\n",
      "60000/60000 [==============================] - 107s 2ms/step - loss: 0.1035 - val_loss: 0.1012\n",
      "Epoch 50/50\n",
      "60000/60000 [==============================] - 111s 2ms/step - loss: 0.1035 - val_loss: 0.1010\n"
     ]
    }
   ],
   "source": [
    "history = autoencoder.fit(x_train, x_train,\n",
    "                epochs=50,\n",
    "                batch_size=256,\n",
    "                shuffle=True,\n",
    "                validation_data=(x_test, x_test),\n",
    "                callbacks=[TensorBoard(log_dir='/tmp/autoencoder')])"
   ]
  },
  {
   "cell_type": "code",
   "execution_count": 47,
   "metadata": {},
   "outputs": [
    {
     "data": {
      "image/png": "[encoded data removed]",
      "text/plain": [
       "<Figure size 432x288 with 1 Axes>"
      ]
     },
     "metadata": {
      "needs_background": "light"
     },
     "output_type": "display_data"
    }
   ],
   "source": [
    "import matplotlib.pyplot as plt\n",
    "\n",
    "history_dict = history.history\n",
    "\n",
    "loss_values = history_dict['loss']\n",
    "val_loss_values = history_dict['val_loss']\n",
    "\n",
    "epochs = range(1, 51)\n",
    "\n",
    "plt.plot(epochs, loss_values, 'bo', label='Training loss')\n",
    "plt.plot(epochs, val_loss_values, 'b', label='Validation loss')\n",
    "plt.title('Training and validation loss')\n",
    "plt.xlabel('Epochs')\n",
    "plt.ylabel('Loss')\n",
    "plt.legend()\n",
    "plt.show()"
   ]
  },
  {
   "cell_type": "code",
   "execution_count": 48,
   "metadata": {},
   "outputs": [],
   "source": [
    "encoded_imgs = encoder.predict(x_test)\n",
    "decoded_imgs = decoder.predict(encoded_imgs)"
   ]
  },
  {
   "cell_type": "code",
   "execution_count": 49,
   "metadata": {},
   "outputs": [
    {
     "data": {
      "image/png": "[encoded data removed]",
      "text/plain": [
       "<Figure size 1440x288 with 20 Axes>"
      ]
     },
     "metadata": {
      "needs_background": "light"
     },
     "output_type": "display_data"
    }
   ],
   "source": [
    "n = 10  # how many digits we will display\n",
    "plt.figure(figsize=(20, 4))\n",
    "\n",
    "for i in range(n):\n",
    "    # display original\n",
    "    ax = plt.subplot(2, n, i + 1)\n",
    "    plt.imshow(x_test[i].reshape(28, 28))\n",
    "    plt.gray()\n",
    "    ax.get_xaxis().set_visible(False)\n",
    "    ax.get_yaxis().set_visible(False)\n",
    "\n",
    "    # display reconstruction\n",
    "    ax = plt.subplot(2, n, i + 1 + n)\n",
    "    plt.imshow(decoded_imgs[i].reshape(28, 28))\n",
    "    plt.gray()\n",
    "    ax.get_xaxis().set_visible(False)\n",
    "    ax.get_yaxis().set_visible(False)\n",
    "    \n",
    "plt.show()"
   ]
  },
  {
   "cell_type": "code",
   "execution_count": null,
   "metadata": {},
   "outputs": [],
   "source": []
  }
 ],
 "metadata": {
  "kernelspec": {
   "display_name": "Python 3",
   "language": "python",
   "name": "python3"
  },
  "language_info": {
   "codemirror_mode": {
    "name": "ipython",
    "version": 3
   },
   "file_extension": ".py",
   "mimetype": "text/x-python",
   "name": "python",
   "nbconvert_exporter": "python",
   "pygments_lexer": "ipython3",
   "version": "3.6.8"
  }
 },
 "nbformat": 4,
 "nbformat_minor": 2
}
