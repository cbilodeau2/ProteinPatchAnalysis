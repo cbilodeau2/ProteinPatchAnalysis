{
 "cells": [
  {
   "cell_type": "code",
   "execution_count": 1,
   "metadata": {},
   "outputs": [
    {
     "name": "stderr",
     "output_type": "stream",
     "text": [
      "Using TensorFlow backend.\n"
     ]
    }
   ],
   "source": [
    "import keras\n",
    "from keras.layers import Input, Dense, Conv2D, MaxPooling2D, UpSampling2D, Lambda\n",
    "from keras.models import Model\n",
    "from keras import backend as K\n",
    "from keras import regularizers\n",
    "from keras import layers\n",
    "from keras.callbacks import TensorBoard\n",
    "import numpy as np"
   ]
  },
  {
   "cell_type": "code",
   "execution_count": 2,
   "metadata": {},
   "outputs": [],
   "source": [
    "# Code 5: Autoencoder, CNN, Varitional"
   ]
  },
  {
   "cell_type": "code",
   "execution_count": 3,
   "metadata": {},
   "outputs": [],
   "source": [
    "input_img = Input(shape=(28, 28, 1)) \n",
    "encoding_dim = 32\n",
    "\n",
    "encoded = Conv2D(16, (3,3), activation='relu', padding='same')(input_img)\n",
    "encoded = MaxPooling2D((2, 2), padding='same')(encoded)\n",
    "encoded = Conv2D(8, (3, 3), activation='relu', padding='same')(encoded)\n",
    "encoded = MaxPooling2D((2, 2), padding='same')(encoded)\n",
    "encoded = Conv2D(8, (3, 3), activation='relu', padding='same')(encoded)\n",
    "encoded = MaxPooling2D((2, 2), padding='same')(encoded)\n",
    "shape_before_flattening = K.int_shape(encoded)\n",
    "encoded = layers.Flatten()(encoded)\n",
    "encoded = layers.Dense(32, activation='relu')(encoded)"
   ]
  },
  {
   "cell_type": "code",
   "execution_count": 4,
   "metadata": {},
   "outputs": [],
   "source": [
    "def sampling(args):\n",
    "    z_mean, z_log_var = args\n",
    "    epsilon = K.random_normal(shape=(K.shape(z_mean)[0], latent_dim),mean=0., stddev=1.)\n",
    "    return z_mean + K.exp(z_log_var) * epsilon"
   ]
  },
  {
   "cell_type": "code",
   "execution_count": 5,
   "metadata": {},
   "outputs": [],
   "source": [
    "# Variational Layer (Built into encoder model):\n",
    "latent_dim = 2\n",
    "\n",
    "z_mean = layers.Dense(latent_dim,name='mean')(encoded)\n",
    "z_log_var = layers.Dense(latent_dim,name='var')(encoded)\n",
    "z = layers.Lambda(sampling)([z_mean, z_log_var])\n",
    "z = layers.Dense(np.prod(shape_before_flattening[1:]),activation='relu')(z)\n",
    "output_encoded = layers.Reshape(shape_before_flattening[1:])(z)\n",
    "\n",
    "encoder = Model(input_img,output_encoded,name='variational')"
   ]
  },
  {
   "cell_type": "code",
   "execution_count": 6,
   "metadata": {},
   "outputs": [],
   "source": [
    "#encoder.summary()"
   ]
  },
  {
   "cell_type": "code",
   "execution_count": 7,
   "metadata": {},
   "outputs": [],
   "source": [
    "encoded_input = Input(shape=(4,4,8))\n",
    "decoded = Conv2D(8, (3, 3), activation='relu', padding='same')(encoded_input)\n",
    "decoded = UpSampling2D((2, 2))(decoded)\n",
    "decoded = Conv2D(8, (3, 3), activation='relu', padding='same')(decoded)\n",
    "decoded = UpSampling2D((2, 2))(decoded)\n",
    "decoded = Conv2D(16, (3, 3), activation='relu')(decoded)\n",
    "decoded = UpSampling2D((2, 2))(decoded)\n",
    "decoded = Conv2D(1, (3, 3), activation='sigmoid', padding='same')(decoded)\n",
    "\n",
    "decoder = Model(encoded_input,decoded)"
   ]
  },
  {
   "cell_type": "code",
   "execution_count": 8,
   "metadata": {},
   "outputs": [],
   "source": [
    "#encoder.summary()\n",
    "#decoder.summary()"
   ]
  },
  {
   "cell_type": "code",
   "execution_count": 17,
   "metadata": {},
   "outputs": [],
   "source": [
    "# Variational Custom Loss Function:\n",
    "def custom_loss(varlayer_mean,varlayer_var):\n",
    "    def vae_loss(x, x_decoded_mean):\n",
    "        xent_loss = K.binary_crossentropy(x, x_decoded_mean)\n",
    "        kl_loss = - 0.5 * K.mean(1 + varlayer_var.output - K.square(varlayer_mean.output) - K.exp(varlayer_var.output), axis=-1)\n",
    "        return xent_loss + kl_loss\n",
    "    return vae_loss"
   ]
  },
  {
   "cell_type": "code",
   "execution_count": 18,
   "metadata": {},
   "outputs": [],
   "source": [
    "# Combine and Compile:\n",
    "autoencoder = Model(input_img,decoder(encoder(input_img)))\n",
    "autoencoder.compile(optimizer='rmsprop', loss=custom_loss(autoencoder.get_layer('variational').get_layer('mean'),autoencoder.get_layer('variational').get_layer('var')))"
   ]
  },
  {
   "cell_type": "code",
   "execution_count": 19,
   "metadata": {},
   "outputs": [],
   "source": [
    "# Import MNIST Data:\n",
    "from keras.datasets import mnist\n",
    "import numpy as np\n",
    "(x_train, _), (x_test, _) = mnist.load_data()\n",
    "\n",
    "x_train = x_train.astype('float32') / 255.\n",
    "x_train = x_train.reshape(x_train.shape + (1,))\n",
    "x_test = x_test.astype('float32') / 255.\n",
    "x_test = x_test.reshape(x_test.shape + (1,))"
   ]
  },
  {
   "cell_type": "code",
   "execution_count": null,
   "metadata": {},
   "outputs": [
    {
     "name": "stdout",
     "output_type": "stream",
     "text": [
      "Train on 60000 samples, validate on 10000 samples\n",
      "Epoch 1/50\n",
      "60000/60000 [==============================] - 1090s 18ms/step - loss: 0.2636 - val_loss: 0.2633\n",
      "Epoch 2/50\n",
      "60000/60000 [==============================] - 2798s 47ms/step - loss: 0.2633 - val_loss: 0.2634\n",
      "Epoch 3/50\n",
      "60000/60000 [==============================] - 1834s 31ms/step - loss: 0.2633 - val_loss: 0.2631\n",
      "Epoch 4/50\n",
      "17000/60000 [=======>......................] - ETA: 8:32:08 - loss: 0.2633"
     ]
    }
   ],
   "source": [
    "history = autoencoder.fit(x_train, x_train,\n",
    "                          epochs=50,\n",
    "                          batch_size=500,\n",
    "                          shuffle=True,\n",
    "                          validation_data=(x_test, x_test))"
   ]
  },
  {
   "cell_type": "code",
   "execution_count": 60,
   "metadata": {},
   "outputs": [
    {
     "name": "stdout",
     "output_type": "stream",
     "text": [
      "_________________________________________________________________\n",
      "Layer (type)                 Output Shape              Param #   \n",
      "=================================================================\n",
      "input_6 (InputLayer)         (None, 28, 28, 1)         0         \n",
      "_________________________________________________________________\n",
      "variational (Model)          (None, 4, 4, 8)           6548      \n",
      "_________________________________________________________________\n",
      "model_7 (Model)              (None, 28, 28, 1)         2481      \n",
      "=================================================================\n",
      "Total params: 9,029\n",
      "Trainable params: 9,029\n",
      "Non-trainable params: 0\n",
      "_________________________________________________________________\n"
     ]
    }
   ],
   "source": [
    "autoencoder.summary()"
   ]
  },
  {
   "cell_type": "code",
   "execution_count": null,
   "metadata": {},
   "outputs": [],
   "source": []
  },
  {
   "cell_type": "code",
   "execution_count": null,
   "metadata": {},
   "outputs": [],
   "source": [
    "decoder.summary()"
   ]
  },
  {
   "cell_type": "code",
   "execution_count": null,
   "metadata": {},
   "outputs": [],
   "source": []
  }
 ],
 "metadata": {
  "kernelspec": {
   "display_name": "Python 3",
   "language": "python",
   "name": "python3"
  },
  "language_info": {
   "codemirror_mode": {
    "name": "ipython",
    "version": 3
   },
   "file_extension": ".py",
   "mimetype": "text/x-python",
   "name": "python",
   "nbconvert_exporter": "python",
   "pygments_lexer": "ipython3",
   "version": "3.6.8"
  }
 },
 "nbformat": 4,
 "nbformat_minor": 2
}
